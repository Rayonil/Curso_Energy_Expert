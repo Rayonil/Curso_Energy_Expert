{
 "cells": [
  {
   "cell_type": "markdown",
   "id": "d75af64a",
   "metadata": {},
   "source": [
    "# Baixar os dados de Precipitação Mensal do ERA5\n",
    "\n",
    "### Baixar os dados mensais por arquivos separados por anos\n",
    "\n",
    "### De 1991 a 2023"
   ]
  },
  {
   "cell_type": "markdown",
   "id": "61cd3208",
   "metadata": {},
   "source": [
    "## Instalar a biblioteca cdsapi\n",
    "\n",
    "O CDS API client é uma biblioteca baseada em python. \n",
    "\n",
    "Ele fornece suporte para Python 2.7.x e Python 3.\n",
    "\n",
    "Você pode instalar o CDS API client através do sistema de gerenciamento de pacotes pip, executando no Unix/Linux o comando mostrado abaixo.\n",
    "\n",
    "\n",
    "$ pip install cdsapi\n",
    "\n"
   ]
  },
  {
   "cell_type": "code",
   "execution_count": null,
   "id": "7a5e9011",
   "metadata": {},
   "outputs": [],
   "source": [
    "pip install cdsapi"
   ]
  },
  {
   "cell_type": "markdown",
   "id": "d05f0d5a",
   "metadata": {},
   "source": [
    "### Importar as bibliotecas"
   ]
  },
  {
   "cell_type": "code",
   "execution_count": 1,
   "id": "35f7602e",
   "metadata": {},
   "outputs": [],
   "source": [
    "import cdsapi\n",
    "import numpy as np"
   ]
  },
  {
   "cell_type": "code",
   "execution_count": 2,
   "id": "4b2d6ed1",
   "metadata": {},
   "outputs": [],
   "source": [
    "c = cdsapi.Client()"
   ]
  },
  {
   "cell_type": "markdown",
   "id": "11999b8d",
   "metadata": {},
   "source": [
    "Criar uma listas dos anos que serão baixados"
   ]
  },
  {
   "cell_type": "code",
   "execution_count": 3,
   "id": "f3a95484",
   "metadata": {},
   "outputs": [],
   "source": [
    "year_list = np.arange(1991, 2024)"
   ]
  },
  {
   "cell_type": "code",
   "execution_count": 4,
   "id": "46f61b34",
   "metadata": {},
   "outputs": [],
   "source": [
    "path_out = \"Dados_ERA5/\""
   ]
  },
  {
   "cell_type": "code",
   "execution_count": null,
   "id": "0c33d09b",
   "metadata": {},
   "outputs": [
    {
     "name": "stdout",
     "output_type": "stream",
     "text": [
      "Download ERA5 Prec do ano de 1992\n"
     ]
    },
    {
     "name": "stderr",
     "output_type": "stream",
     "text": [
      "2024-02-26 09:50:09,056 INFO Welcome to the CDS\n",
      "2024-02-26 09:50:09,058 INFO Sending request to https://cds.climate.copernicus.eu/api/v2/resources/reanalysis-era5-single-levels-monthly-means\n",
      "2024-02-26 09:50:09,233 INFO Request is queued\n"
     ]
    }
   ],
   "source": [
    "for yr in year_list:\n",
    "    \n",
    "    print(f'Download ERA5 Prec do ano de {yr}')\n",
    "    \n",
    "    c.retrieve(\n",
    "        'reanalysis-era5-single-levels-monthly-means',\n",
    "        {\n",
    "            'product_type': 'monthly_averaged_reanalysis',\n",
    "            'variable': 'total_column_rain_water',\n",
    "            'year': str(yr), # Seleciona cada ano da year_list para baixar um arquivo.\n",
    "            'month': [\n",
    "                '01', '02', '03',\n",
    "                '04', '05', '06',\n",
    "                '07', '08', '09',\n",
    "                '10', '11', '12',\n",
    "            ],\n",
    "            'time': '00:00',\n",
    "            'format': 'grib',\n",
    "            'area': [\n",
    "                15, -90, -60,\n",
    "                -30,\n",
    "            ],\n",
    "        },\n",
    "        f'{path_out}ERA5_Prec_Month_SA_{yr}.nc')"
   ]
  },
  {
   "cell_type": "code",
   "execution_count": null,
   "id": "bb002598",
   "metadata": {},
   "outputs": [],
   "source": []
  }
 ],
 "metadata": {
  "kernelspec": {
   "display_name": "Python 3 (ipykernel)",
   "language": "python",
   "name": "python3"
  },
  "language_info": {
   "codemirror_mode": {
    "name": "ipython",
    "version": 3
   },
   "file_extension": ".py",
   "mimetype": "text/x-python",
   "name": "python",
   "nbconvert_exporter": "python",
   "pygments_lexer": "ipython3",
   "version": "3.7.7"
  }
 },
 "nbformat": 4,
 "nbformat_minor": 5
}
